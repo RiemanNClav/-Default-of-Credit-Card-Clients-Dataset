{
  "cells": [
    {
      "cell_type": "markdown",
      "id": "d1002853",
      "metadata": {
        "id": "d1002853"
      },
      "source": [
        "### Prueba tecnica:\n",
        "Problema 1: AutoML para Score de Crédito Basado en el Paper “AutoML: A Survey of the State-of-the-Art”"
      ]
    },
    {
      "cell_type": "markdown",
      "id": "88c748de",
      "metadata": {},
      "source": []
    },
    {
      "cell_type": "markdown",
      "id": "22218876",
      "metadata": {
        "id": "22218876"
      },
      "source": [
        "### Pasos clave\n",
        "- Importing Libraries and DataSet\n",
        "- Data Analysis\n",
        "- Feature Engineering\n",
        "- Model building using ML models\n",
        "- Model building and prediction using Auto ML"
      ]
    },
    {
      "cell_type": "markdown",
      "id": "0233e2f1",
      "metadata": {
        "id": "0233e2f1"
      },
      "source": [
        "### Importing Libraries"
      ]
    },
    {
      "cell_type": "code",
      "execution_count": 1,
      "id": "32bcb4d4",
      "metadata": {
        "id": "32bcb4d4"
      },
      "outputs": [],
      "source": [
        "import pandas as pd\n",
        "import numpy as np\n",
        "import seaborn as sns\n",
        "import matplotlib.pyplot as plt\n",
        "\n",
        "# # Modelling\n",
        "# from sklearn.metrics import mean_squared_error, r2_score\n",
        "# from sklearn.neighbors import KNeighborsRegressor\n",
        "# from sklearn.tree import DecisionTreeRegressor\n",
        "# from sklearn.ensemble import RandomF\n",
        "#orestRegressor,AdaBoostRegressor\n",
        "# from sklearn.svm import SVR\n",
        "# from sklearn.linear_model import LinearRegression, Ridge,Lasso\n",
        "# from sklearn.metrics import r2_score, mean_absolute_error, mean_squared_error\n",
        "# from sklearn.model_selection import RandomizedSearchCV\n",
        "# from catboost import CatBoostRegressor\n",
        "# from xgboost import XGBRegressor\n",
        "# import warnings"
      ]
    },
    {
      "cell_type": "markdown",
      "id": "b9b57b9c",
      "metadata": {
        "id": "b9b57b9c"
      },
      "source": [
        "### Reading the DataSet"
      ]
    },
    {
      "cell_type": "code",
      "execution_count": 2,
      "id": "661b6563",
      "metadata": {
        "id": "661b6563"
      },
      "outputs": [],
      "source": [
        "df= pd.read_csv(\"data/credit_data.csv\")"
      ]
    },
    {
      "cell_type": "code",
      "execution_count": 3,
      "id": "19f7d7b2",
      "metadata": {
        "id": "19f7d7b2"
      },
      "outputs": [
        {
          "data": {
            "text/html": [
              "<div>\n",
              "<style scoped>\n",
              "    .dataframe tbody tr th:only-of-type {\n",
              "        vertical-align: middle;\n",
              "    }\n",
              "\n",
              "    .dataframe tbody tr th {\n",
              "        vertical-align: top;\n",
              "    }\n",
              "\n",
              "    .dataframe thead th {\n",
              "        text-align: right;\n",
              "    }\n",
              "</style>\n",
              "<table border=\"1\" class=\"dataframe\">\n",
              "  <thead>\n",
              "    <tr style=\"text-align: right;\">\n",
              "      <th></th>\n",
              "      <th>ID</th>\n",
              "      <th>LIMIT_BAL</th>\n",
              "      <th>SEX</th>\n",
              "      <th>EDUCATION</th>\n",
              "      <th>MARRIAGE</th>\n",
              "      <th>AGE</th>\n",
              "      <th>PAY_0</th>\n",
              "      <th>PAY_2</th>\n",
              "      <th>PAY_3</th>\n",
              "      <th>PAY_4</th>\n",
              "      <th>...</th>\n",
              "      <th>BILL_AMT4</th>\n",
              "      <th>BILL_AMT5</th>\n",
              "      <th>BILL_AMT6</th>\n",
              "      <th>PAY_AMT1</th>\n",
              "      <th>PAY_AMT2</th>\n",
              "      <th>PAY_AMT3</th>\n",
              "      <th>PAY_AMT4</th>\n",
              "      <th>PAY_AMT5</th>\n",
              "      <th>PAY_AMT6</th>\n",
              "      <th>default payment next month</th>\n",
              "    </tr>\n",
              "  </thead>\n",
              "  <tbody>\n",
              "    <tr>\n",
              "      <th>0</th>\n",
              "      <td>1</td>\n",
              "      <td>20000</td>\n",
              "      <td>2</td>\n",
              "      <td>2</td>\n",
              "      <td>1</td>\n",
              "      <td>24</td>\n",
              "      <td>2</td>\n",
              "      <td>2</td>\n",
              "      <td>-1</td>\n",
              "      <td>-1</td>\n",
              "      <td>...</td>\n",
              "      <td>0</td>\n",
              "      <td>0</td>\n",
              "      <td>0</td>\n",
              "      <td>0</td>\n",
              "      <td>689</td>\n",
              "      <td>0</td>\n",
              "      <td>0</td>\n",
              "      <td>0</td>\n",
              "      <td>0</td>\n",
              "      <td>1</td>\n",
              "    </tr>\n",
              "    <tr>\n",
              "      <th>1</th>\n",
              "      <td>2</td>\n",
              "      <td>120000</td>\n",
              "      <td>2</td>\n",
              "      <td>2</td>\n",
              "      <td>2</td>\n",
              "      <td>26</td>\n",
              "      <td>-1</td>\n",
              "      <td>2</td>\n",
              "      <td>0</td>\n",
              "      <td>0</td>\n",
              "      <td>...</td>\n",
              "      <td>3272</td>\n",
              "      <td>3455</td>\n",
              "      <td>3261</td>\n",
              "      <td>0</td>\n",
              "      <td>1000</td>\n",
              "      <td>1000</td>\n",
              "      <td>1000</td>\n",
              "      <td>0</td>\n",
              "      <td>2000</td>\n",
              "      <td>1</td>\n",
              "    </tr>\n",
              "    <tr>\n",
              "      <th>2</th>\n",
              "      <td>3</td>\n",
              "      <td>90000</td>\n",
              "      <td>2</td>\n",
              "      <td>2</td>\n",
              "      <td>2</td>\n",
              "      <td>34</td>\n",
              "      <td>0</td>\n",
              "      <td>0</td>\n",
              "      <td>0</td>\n",
              "      <td>0</td>\n",
              "      <td>...</td>\n",
              "      <td>14331</td>\n",
              "      <td>14948</td>\n",
              "      <td>15549</td>\n",
              "      <td>1518</td>\n",
              "      <td>1500</td>\n",
              "      <td>1000</td>\n",
              "      <td>1000</td>\n",
              "      <td>1000</td>\n",
              "      <td>5000</td>\n",
              "      <td>0</td>\n",
              "    </tr>\n",
              "    <tr>\n",
              "      <th>3</th>\n",
              "      <td>4</td>\n",
              "      <td>50000</td>\n",
              "      <td>2</td>\n",
              "      <td>2</td>\n",
              "      <td>1</td>\n",
              "      <td>37</td>\n",
              "      <td>0</td>\n",
              "      <td>0</td>\n",
              "      <td>0</td>\n",
              "      <td>0</td>\n",
              "      <td>...</td>\n",
              "      <td>28314</td>\n",
              "      <td>28959</td>\n",
              "      <td>29547</td>\n",
              "      <td>2000</td>\n",
              "      <td>2019</td>\n",
              "      <td>1200</td>\n",
              "      <td>1100</td>\n",
              "      <td>1069</td>\n",
              "      <td>1000</td>\n",
              "      <td>0</td>\n",
              "    </tr>\n",
              "    <tr>\n",
              "      <th>4</th>\n",
              "      <td>5</td>\n",
              "      <td>50000</td>\n",
              "      <td>1</td>\n",
              "      <td>2</td>\n",
              "      <td>1</td>\n",
              "      <td>57</td>\n",
              "      <td>-1</td>\n",
              "      <td>0</td>\n",
              "      <td>-1</td>\n",
              "      <td>0</td>\n",
              "      <td>...</td>\n",
              "      <td>20940</td>\n",
              "      <td>19146</td>\n",
              "      <td>19131</td>\n",
              "      <td>2000</td>\n",
              "      <td>36681</td>\n",
              "      <td>10000</td>\n",
              "      <td>9000</td>\n",
              "      <td>689</td>\n",
              "      <td>679</td>\n",
              "      <td>0</td>\n",
              "    </tr>\n",
              "  </tbody>\n",
              "</table>\n",
              "<p>5 rows × 25 columns</p>\n",
              "</div>"
            ],
            "text/plain": [
              "   ID  LIMIT_BAL  SEX  EDUCATION  MARRIAGE  AGE  PAY_0  PAY_2  PAY_3  PAY_4  \\\n",
              "0   1      20000    2          2         1   24      2      2     -1     -1   \n",
              "1   2     120000    2          2         2   26     -1      2      0      0   \n",
              "2   3      90000    2          2         2   34      0      0      0      0   \n",
              "3   4      50000    2          2         1   37      0      0      0      0   \n",
              "4   5      50000    1          2         1   57     -1      0     -1      0   \n",
              "\n",
              "   ...  BILL_AMT4  BILL_AMT5  BILL_AMT6  PAY_AMT1  PAY_AMT2  PAY_AMT3  \\\n",
              "0  ...          0          0          0         0       689         0   \n",
              "1  ...       3272       3455       3261         0      1000      1000   \n",
              "2  ...      14331      14948      15549      1518      1500      1000   \n",
              "3  ...      28314      28959      29547      2000      2019      1200   \n",
              "4  ...      20940      19146      19131      2000     36681     10000   \n",
              "\n",
              "   PAY_AMT4  PAY_AMT5  PAY_AMT6  default payment next month  \n",
              "0         0         0         0                           1  \n",
              "1      1000         0      2000                           1  \n",
              "2      1000      1000      5000                           0  \n",
              "3      1100      1069      1000                           0  \n",
              "4      9000       689       679                           0  \n",
              "\n",
              "[5 rows x 25 columns]"
            ]
          },
          "execution_count": 3,
          "metadata": {},
          "output_type": "execute_result"
        }
      ],
      "source": [
        "df.head()"
      ]
    },
    {
      "cell_type": "code",
      "execution_count": 4,
      "id": "116529c5",
      "metadata": {
        "id": "116529c5"
      },
      "outputs": [
        {
          "data": {
            "text/plain": [
              "ID                            0\n",
              "LIMIT_BAL                     0\n",
              "SEX                           0\n",
              "EDUCATION                     0\n",
              "MARRIAGE                      0\n",
              "AGE                           0\n",
              "PAY_0                         0\n",
              "PAY_2                         0\n",
              "PAY_3                         0\n",
              "PAY_4                         0\n",
              "PAY_5                         0\n",
              "PAY_6                         0\n",
              "BILL_AMT1                     0\n",
              "BILL_AMT2                     0\n",
              "BILL_AMT3                     0\n",
              "BILL_AMT4                     0\n",
              "BILL_AMT5                     0\n",
              "BILL_AMT6                     0\n",
              "PAY_AMT1                      0\n",
              "PAY_AMT2                      0\n",
              "PAY_AMT3                      0\n",
              "PAY_AMT4                      0\n",
              "PAY_AMT5                      0\n",
              "PAY_AMT6                      0\n",
              "default payment next month    0\n",
              "dtype: int64"
            ]
          },
          "execution_count": 4,
          "metadata": {},
          "output_type": "execute_result"
        }
      ],
      "source": [
        "df.isnull().sum()"
      ]
    },
    {
      "cell_type": "code",
      "execution_count": 5,
      "id": "e8bea26b",
      "metadata": {
        "id": "e8bea26b"
      },
      "outputs": [
        {
          "name": "stdout",
          "output_type": "stream",
          "text": [
            "<class 'pandas.core.frame.DataFrame'>\n",
            "RangeIndex: 30000 entries, 0 to 29999\n",
            "Data columns (total 25 columns):\n",
            " #   Column                      Non-Null Count  Dtype\n",
            "---  ------                      --------------  -----\n",
            " 0   ID                          30000 non-null  int64\n",
            " 1   LIMIT_BAL                   30000 non-null  int64\n",
            " 2   SEX                         30000 non-null  int64\n",
            " 3   EDUCATION                   30000 non-null  int64\n",
            " 4   MARRIAGE                    30000 non-null  int64\n",
            " 5   AGE                         30000 non-null  int64\n",
            " 6   PAY_0                       30000 non-null  int64\n",
            " 7   PAY_2                       30000 non-null  int64\n",
            " 8   PAY_3                       30000 non-null  int64\n",
            " 9   PAY_4                       30000 non-null  int64\n",
            " 10  PAY_5                       30000 non-null  int64\n",
            " 11  PAY_6                       30000 non-null  int64\n",
            " 12  BILL_AMT1                   30000 non-null  int64\n",
            " 13  BILL_AMT2                   30000 non-null  int64\n",
            " 14  BILL_AMT3                   30000 non-null  int64\n",
            " 15  BILL_AMT4                   30000 non-null  int64\n",
            " 16  BILL_AMT5                   30000 non-null  int64\n",
            " 17  BILL_AMT6                   30000 non-null  int64\n",
            " 18  PAY_AMT1                    30000 non-null  int64\n",
            " 19  PAY_AMT2                    30000 non-null  int64\n",
            " 20  PAY_AMT3                    30000 non-null  int64\n",
            " 21  PAY_AMT4                    30000 non-null  int64\n",
            " 22  PAY_AMT5                    30000 non-null  int64\n",
            " 23  PAY_AMT6                    30000 non-null  int64\n",
            " 24  default payment next month  30000 non-null  int64\n",
            "dtypes: int64(25)\n",
            "memory usage: 5.7 MB\n"
          ]
        }
      ],
      "source": [
        "df.info()"
      ]
    },
    {
      "cell_type": "code",
      "execution_count": 6,
      "id": "7220007a",
      "metadata": {
        "id": "7220007a"
      },
      "outputs": [
        {
          "data": {
            "text/plain": [
              "Index(['ID', 'LIMIT_BAL', 'SEX', 'EDUCATION', 'MARRIAGE', 'AGE', 'PAY_0',\n",
              "       'PAY_2', 'PAY_3', 'PAY_4', 'PAY_5', 'PAY_6', 'BILL_AMT1', 'BILL_AMT2',\n",
              "       'BILL_AMT3', 'BILL_AMT4', 'BILL_AMT5', 'BILL_AMT6', 'PAY_AMT1',\n",
              "       'PAY_AMT2', 'PAY_AMT3', 'PAY_AMT4', 'PAY_AMT5', 'PAY_AMT6',\n",
              "       'default payment next month'],\n",
              "      dtype='object')"
            ]
          },
          "execution_count": 6,
          "metadata": {},
          "output_type": "execute_result"
        }
      ],
      "source": [
        "df.columns"
      ]
    },
    {
      "cell_type": "code",
      "execution_count": 7,
      "id": "921ed32b",
      "metadata": {},
      "outputs": [
        {
          "data": {
            "text/plain": [
              "30000"
            ]
          },
          "execution_count": 7,
          "metadata": {},
          "output_type": "execute_result"
        }
      ],
      "source": [
        "len(df)"
      ]
    },
    {
      "cell_type": "markdown",
      "id": "50b9c5ab",
      "metadata": {},
      "source": [
        "#### Limpieza de datos\n"
      ]
    },
    {
      "cell_type": "code",
      "execution_count": 8,
      "id": "3cf5b3d7",
      "metadata": {},
      "outputs": [
        {
          "name": "stdout",
          "output_type": "stream",
          "text": [
            "[2 1 3 5 4 6 0]\n",
            "-------------------------\n",
            "[1 2 3 0]\n",
            "-------------------------\n",
            "[2 1]\n",
            "-------------------------\n"
          ]
        }
      ],
      "source": [
        "cols = ['EDUCATION', 'MARRIAGE', 'SEX']\n",
        "for col in cols:\n",
        "    x = df[col].unique()\n",
        "    print(x)\n",
        "    print('-------------------------')"
      ]
    },
    {
      "cell_type": "markdown",
      "id": "f08c5729",
      "metadata": {},
      "source": [
        "### Ingenieria de Variables"
      ]
    },
    {
      "cell_type": "markdown",
      "id": "4cf830e6",
      "metadata": {},
      "source": [
        "##### Variables del historial de pago (PAY_0 a PAY_6):\n",
        "\n",
        "\n",
        "\n",
        "Estas transformaciones convierten las 6 columnas (PAY_0 a PAY_6) en nuevas características más informativas, como:\n",
        "\n",
        "Promedio de retrasos (avg_delay).\n",
        "\n",
        "Máximo retraso (max_delay).\n",
        "\n",
        "Meses con retrasos graves (months_significant_delay).\n",
        "\n",
        "Variabilidad de pagos (std_delay).\n",
        "\n",
        "Estas nuevas características son útiles porque ayudan a los modelos a comprender el comportamiento histórico del cliente de manera más eficiente."
      ]
    },
    {
      "cell_type": "code",
      "execution_count": 9,
      "id": "0f8e92f1",
      "metadata": {},
      "outputs": [],
      "source": [
        "variables = ['PAY_0', 'PAY_2', 'PAY_3', 'PAY_4', 'PAY_5', 'PAY_6']\n",
        "\n",
        "df['promedio_retraso'] = df[variables].mean(axis=1)\n",
        "\n",
        "df['maximo_retraso'] = df[variables].max(axis=1)\n",
        "\n",
        "df['minimo_retraso'] = df[variables].min(axis=1)\n",
        "\n",
        "df['cantidad_meses_con_retraso'] = (df[variables] > 0).sum(axis=1)"
      ]
    },
    {
      "cell_type": "markdown",
      "id": "32ee8640",
      "metadata": {},
      "source": [
        "##### Variables de facturas (BILL_AMT*) y pagos (PAY_AMT*):\n",
        "\n",
        "Calcular:\n",
        "\n",
        "Relación entre pago y factura (PAY_AMT* / BILL_AMT*).\n"
      ]
    },
    {
      "cell_type": "code",
      "execution_count": 10,
      "id": "8b5824f1",
      "metadata": {},
      "outputs": [],
      "source": [
        "pagos = ['PAY_AMT1','PAY_AMT2', 'PAY_AMT3', 'PAY_AMT4', 'PAY_AMT5', 'PAY_AMT6',]\n",
        "facturas = ['BILL_AMT1', 'BILL_AMT2','BILL_AMT3', 'BILL_AMT4', 'BILL_AMT5', 'BILL_AMT6']\n",
        "new_columns = []\n",
        "for i in range(len(pagos)):\n",
        "    x = f'relacion_pago_factura_{i+1}'\n",
        "    y = f'razon_deuda_{i+1}'\n",
        "    df[x] = df[pagos[i]] / df[facturas[i]]\n",
        "    df[y] = df[facturas[i]] / df[\"LIMIT_BAL\"]\n",
        "    new_columns.append(x)\n",
        "    new_columns.append(y)"
      ]
    },
    {
      "cell_type": "code",
      "execution_count": 11,
      "id": "410c52c9",
      "metadata": {},
      "outputs": [
        {
          "data": {
            "text/html": [
              "<div>\n",
              "<style scoped>\n",
              "    .dataframe tbody tr th:only-of-type {\n",
              "        vertical-align: middle;\n",
              "    }\n",
              "\n",
              "    .dataframe tbody tr th {\n",
              "        vertical-align: top;\n",
              "    }\n",
              "\n",
              "    .dataframe thead th {\n",
              "        text-align: right;\n",
              "    }\n",
              "</style>\n",
              "<table border=\"1\" class=\"dataframe\">\n",
              "  <thead>\n",
              "    <tr style=\"text-align: right;\">\n",
              "      <th></th>\n",
              "      <th>PAY_AMT4</th>\n",
              "      <th>BILL_AMT4</th>\n",
              "      <th>relacion_pago_factura_4</th>\n",
              "    </tr>\n",
              "  </thead>\n",
              "  <tbody>\n",
              "    <tr>\n",
              "      <th>0</th>\n",
              "      <td>0</td>\n",
              "      <td>0</td>\n",
              "      <td>NaN</td>\n",
              "    </tr>\n",
              "    <tr>\n",
              "      <th>1</th>\n",
              "      <td>1000</td>\n",
              "      <td>3272</td>\n",
              "      <td>0.305623</td>\n",
              "    </tr>\n",
              "    <tr>\n",
              "      <th>2</th>\n",
              "      <td>1000</td>\n",
              "      <td>14331</td>\n",
              "      <td>0.069779</td>\n",
              "    </tr>\n",
              "    <tr>\n",
              "      <th>3</th>\n",
              "      <td>1100</td>\n",
              "      <td>28314</td>\n",
              "      <td>0.038850</td>\n",
              "    </tr>\n",
              "    <tr>\n",
              "      <th>4</th>\n",
              "      <td>9000</td>\n",
              "      <td>20940</td>\n",
              "      <td>0.429799</td>\n",
              "    </tr>\n",
              "    <tr>\n",
              "      <th>...</th>\n",
              "      <td>...</td>\n",
              "      <td>...</td>\n",
              "      <td>...</td>\n",
              "    </tr>\n",
              "    <tr>\n",
              "      <th>29995</th>\n",
              "      <td>3047</td>\n",
              "      <td>88004</td>\n",
              "      <td>0.034623</td>\n",
              "    </tr>\n",
              "    <tr>\n",
              "      <th>29996</th>\n",
              "      <td>129</td>\n",
              "      <td>8979</td>\n",
              "      <td>0.014367</td>\n",
              "    </tr>\n",
              "    <tr>\n",
              "      <th>29997</th>\n",
              "      <td>4200</td>\n",
              "      <td>20878</td>\n",
              "      <td>0.201169</td>\n",
              "    </tr>\n",
              "    <tr>\n",
              "      <th>29998</th>\n",
              "      <td>1926</td>\n",
              "      <td>52774</td>\n",
              "      <td>0.036495</td>\n",
              "    </tr>\n",
              "    <tr>\n",
              "      <th>29999</th>\n",
              "      <td>1000</td>\n",
              "      <td>36535</td>\n",
              "      <td>0.027371</td>\n",
              "    </tr>\n",
              "  </tbody>\n",
              "</table>\n",
              "<p>30000 rows × 3 columns</p>\n",
              "</div>"
            ],
            "text/plain": [
              "       PAY_AMT4  BILL_AMT4  relacion_pago_factura_4\n",
              "0             0          0                      NaN\n",
              "1          1000       3272                 0.305623\n",
              "2          1000      14331                 0.069779\n",
              "3          1100      28314                 0.038850\n",
              "4          9000      20940                 0.429799\n",
              "...         ...        ...                      ...\n",
              "29995      3047      88004                 0.034623\n",
              "29996       129       8979                 0.014367\n",
              "29997      4200      20878                 0.201169\n",
              "29998      1926      52774                 0.036495\n",
              "29999      1000      36535                 0.027371\n",
              "\n",
              "[30000 rows x 3 columns]"
            ]
          },
          "execution_count": 11,
          "metadata": {},
          "output_type": "execute_result"
        }
      ],
      "source": [
        "df[[\"PAY_AMT1\", \"BILL_AMT1\", \"relacion_pago_factura_1\"]]\n",
        "df[[\"PAY_AMT4\", \"BILL_AMT4\", \"relacion_pago_factura_4\"]]"
      ]
    },
    {
      "cell_type": "code",
      "execution_count": 12,
      "id": "078cd22b",
      "metadata": {},
      "outputs": [],
      "source": [
        "df.fillna(0, inplace=True)\n"
      ]
    },
    {
      "cell_type": "code",
      "execution_count": 13,
      "id": "542f7fc3",
      "metadata": {},
      "outputs": [
        {
          "name": "stdout",
          "output_type": "stream",
          "text": [
            "['relacion_pago_factura_1', 'razon_deuda_1', 'relacion_pago_factura_2', 'razon_deuda_2', 'relacion_pago_factura_3', 'razon_deuda_3', 'relacion_pago_factura_4', 'razon_deuda_4', 'relacion_pago_factura_5', 'razon_deuda_5', 'relacion_pago_factura_6', 'razon_deuda_6']\n"
          ]
        }
      ],
      "source": [
        "print(new_columns)"
      ]
    },
    {
      "cell_type": "code",
      "execution_count": null,
      "id": "42185ec9",
      "metadata": {},
      "outputs": [],
      "source": []
    },
    {
      "cell_type": "markdown",
      "id": "243a7e62",
      "metadata": {
        "id": "243a7e62"
      },
      "source": [
        "### Preprocesamiento de datos"
      ]
    },
    {
      "cell_type": "markdown",
      "id": "265e06e3",
      "metadata": {},
      "source": [
        "#### Standard Scaler\n",
        "\n",
        "Escalado de características\n",
        "\n",
        "Razón: Las variables numéricas (LIMIT_BAL, AGE, BILL_AMT*, PAY_AMT*) tienen rangos muy diferentes, lo que puede afectar el rendimiento de algunos modelos, como Ridge, Lasso o Random Forest.\n",
        "\n",
        "Técnicas adecuadas:\n",
        "\n",
        "Estandarización (StandardScaler): Escalar las variables para que tengan media 0 y desviación estándar 1.\n",
        "Normalización (MinMaxScaler): Escalar las variables a un rango [0, 1] para métodos como XGBoost."
      ]
    },
    {
      "cell_type": "code",
      "execution_count": 9,
      "id": "e035f17c",
      "metadata": {},
      "outputs": [],
      "source": [
        "[\"MARRIAGE\", \"EDUCATION\"]"
      ]
    },
    {
      "cell_type": "markdown",
      "id": "f1151020",
      "metadata": {
        "id": "f1151020"
      },
      "source": [
        "#### One Hot Encoding"
      ]
    },
    {
      "cell_type": "code",
      "execution_count": 21,
      "id": "80e91909",
      "metadata": {
        "id": "80e91909"
      },
      "outputs": [],
      "source": [
        "# Create Column Transformer with 3 types of transformers\n",
        "cat_features = X.select_dtypes(include=\"object\").columns\n",
        "\n",
        "from sklearn.preprocessing import OneHotEncoder\n",
        "from sklearn.compose import ColumnTransformer\n",
        "\n",
        "oh_transformer = OneHotEncoder()\n",
        "\n",
        "preprocessor = ColumnTransformer(\n",
        "    [\n",
        "        (\"OneHotEncoder\", oh_transformer, cat_features),    \n",
        "    ]\n",
        ")"
      ]
    },
    {
      "cell_type": "code",
      "execution_count": 22,
      "id": "3c4ff7b0",
      "metadata": {
        "id": "3c4ff7b0"
      },
      "outputs": [],
      "source": [
        "X = preprocessor.fit_transform(X)"
      ]
    },
    {
      "cell_type": "code",
      "execution_count": null,
      "id": "5d1a2075",
      "metadata": {
        "id": "5d1a2075"
      },
      "outputs": [],
      "source": [
        "# separate dataset into train and test\n",
        "from sklearn.model_selection import train_test_split\n",
        "X_train, X_test, y_train, y_test = train_test_split(X,y,test_size=0.2,random_state=42)\n",
        "X_train.shape, X_test.shape"
      ]
    },
    {
      "cell_type": "markdown",
      "id": "75e71a99",
      "metadata": {
        "id": "75e71a99"
      },
      "source": [
        "## Model Building using ML Algorithms\n"
      ]
    },
    {
      "cell_type": "markdown",
      "id": "6f13c010",
      "metadata": {
        "id": "6f13c010"
      },
      "source": [
        "### We will be using the following models:\n",
        "- XGB Regressor\n",
        "- Support Vector Regressor"
      ]
    },
    {
      "cell_type": "markdown",
      "id": "fd96ea61",
      "metadata": {
        "id": "fd96ea61"
      },
      "source": [
        "## XGB Regressor"
      ]
    },
    {
      "cell_type": "markdown",
      "id": "7e59a5b9",
      "metadata": {
        "id": "7e59a5b9"
      },
      "source": [
        "### We will use Grid Search CV for finding the best parameters"
      ]
    },
    {
      "cell_type": "code",
      "execution_count": null,
      "id": "d56e33c6",
      "metadata": {
        "id": "d56e33c6"
      },
      "outputs": [],
      "source": [
        "from xgboost import XGBRegressor"
      ]
    },
    {
      "cell_type": "code",
      "execution_count": null,
      "id": "3d0b638d",
      "metadata": {
        "id": "3d0b638d"
      },
      "outputs": [],
      "source": [
        "from sklearn.model_selection import GridSearchCV"
      ]
    },
    {
      "cell_type": "code",
      "execution_count": null,
      "id": "5f36fd96",
      "metadata": {
        "id": "5f36fd96"
      },
      "outputs": [],
      "source": [
        "param_grid= {'n_estimators':[2000,4000,6000],\n",
        "             'max_depth':[3,4,5,6],\n",
        "             'learning_rate':[0.01,0.1,0.2,0.3,0.5]\n",
        "}"
      ]
    },
    {
      "cell_type": "code",
      "execution_count": null,
      "id": "5bae5cca",
      "metadata": {
        "id": "5bae5cca"
      },
      "outputs": [],
      "source": [
        "final = GridSearchCV(XGBRegressor(random_state=42),\n",
        "                                    param_grid=param_grid,\n",
        "                                    scoring='r2')"
      ]
    },
    {
      "cell_type": "code",
      "execution_count": 90,
      "id": "d2e144c7",
      "metadata": {
        "id": "d2e144c7",
        "scrolled": false
      },
      "outputs": [],
      "source": [
        "final.fit(X1_train,y1_train)"
      ]
    },
    {
      "cell_type": "code",
      "execution_count": null,
      "id": "28b219c9",
      "metadata": {
        "id": "28b219c9"
      },
      "outputs": [],
      "source": [
        "final.best_params_"
      ]
    },
    {
      "cell_type": "code",
      "execution_count": null,
      "id": "72d99712",
      "metadata": {
        "id": "72d99712"
      },
      "outputs": [],
      "source": [
        "Best_param= {'learning_rate': 0.1, 'max_depth': 6, 'n_estimators': 2000}"
      ]
    },
    {
      "cell_type": "code",
      "execution_count": null,
      "id": "28d52e2c",
      "metadata": {
        "id": "28d52e2c"
      },
      "outputs": [],
      "source": [
        "xgb= XGBRegressor(learning_rate= 0.1,max_depth= 6, n_estimators= 2000)"
      ]
    },
    {
      "cell_type": "code",
      "execution_count": null,
      "id": "3177acc2",
      "metadata": {
        "id": "3177acc2"
      },
      "outputs": [],
      "source": [
        "xgb.fit(X_train,Y_train)"
      ]
    },
    {
      "cell_type": "code",
      "execution_count": null,
      "id": "0fdbac12",
      "metadata": {
        "id": "0fdbac12"
      },
      "outputs": [],
      "source": [
        "pred= xgb.predict(X_test)"
      ]
    },
    {
      "cell_type": "code",
      "execution_count": null,
      "id": "6371a86e",
      "metadata": {
        "id": "6371a86e"
      },
      "outputs": [],
      "source": [
        "from sklearn import metrics"
      ]
    },
    {
      "cell_type": "code",
      "execution_count": null,
      "id": "3f5dd873",
      "metadata": {
        "id": "3f5dd873"
      },
      "outputs": [],
      "source": [
        "mae = metrics.mean_absolute_error(pred, Y_test)\n",
        "print(f'MAE: {mae:.5f}')\n",
        "\n",
        "rsme = metrics.mean_squared_error(pred, Y_test, squared=False)\n",
        "print(f'RMSE: {rsme:.5f}')\n",
        "\n",
        "r2_score = metrics.r2_score(pred, Y_test)\n",
        "print(f'r2 score: {r2_score:.5f}')"
      ]
    },
    {
      "cell_type": "markdown",
      "id": "c7bde1ec",
      "metadata": {},
      "source": [
        "# --------------------------------------------------------"
      ]
    },
    {
      "cell_type": "code",
      "execution_count": 48,
      "id": "f4f01b45",
      "metadata": {
        "id": "f4f01b45"
      },
      "outputs": [],
      "source": [
        "def evaluate_model(true, predicted):\n",
        "    mae = mean_absolute_error(true, predicted)\n",
        "    mse = mean_squared_error(true, predicted)\n",
        "    rmse = np.sqrt(mean_squared_error(true, predicted))\n",
        "    r2_square = r2_score(true, predicted)\n",
        "    return mae, mse, rmse, r2_square"
      ]
    },
    {
      "cell_type": "code",
      "execution_count": null,
      "id": "39d65f65",
      "metadata": {},
      "outputs": [],
      "source": [
        "models = {\n",
        "    \"Linear Regression\": LinearRegression(),\n",
        "    \"Lasso\": Lasso(),\n",
        "    \"Ridge\": Ridge(),\n",
        "    \"K-Neighbors Regressor\": KNeighborsRegressor(),\n",
        "    \"Decision Tree\": DecisionTreeRegressor(),\n",
        "    \"Random Forest Regressor\": RandomForestRegressor(),\n",
        "    \"XGBRegressor\": XGBRegressor(), \n",
        "    \"CatBoosting Regressor\": CatBoostRegressor(verbose=False),\n",
        "    \"AdaBoost Regressor\": AdaBoostRegressor()\n",
        "}\n",
        "model_list = []\n",
        "r2_list =[]\n",
        "\n",
        "for i in range(len(list(models))):\n",
        "    model = list(models.values())[i]\n",
        "    model.fit(X_train, y_train) # Train model\n",
        "\n",
        "    # Make predictions\n",
        "    y_train_pred = model.predict(X_train)\n",
        "    y_test_pred = model.predict(X_test)\n",
        "    \n",
        "    # Evaluate Train and Test dataset\n",
        "    model_train_mae , model_train_rmse, model_train_r2 = evaluate_model(y_train, y_train_pred)\n",
        "\n",
        "    model_test_mae , model_test_rmse, model_test_r2 = evaluate_model(y_test, y_test_pred)\n",
        "\n",
        "    \n",
        "    print(list(models.keys())[i])\n",
        "    model_list.append(list(models.keys())[i])\n",
        "    \n",
        "    print('Model performance for Training set')\n",
        "    print(\"- Root Mean Squared Error: {:.4f}\".format(model_train_rmse))\n",
        "    print(\"- Mean Absolute Error: {:.4f}\".format(model_train_mae))\n",
        "    print(\"- R2 Score: {:.4f}\".format(model_train_r2))\n",
        "\n",
        "    print('----------------------------------')\n",
        "    \n",
        "    print('Model performance for Test set')\n",
        "    print(\"- Root Mean Squared Error: {:.4f}\".format(model_test_rmse))\n",
        "    print(\"- Mean Absolute Error: {:.4f}\".format(model_test_mae))\n",
        "    print(\"- R2 Score: {:.4f}\".format(model_test_r2))\n",
        "    r2_list.append(model_test_r2)\n",
        "    \n",
        "    print('='*35)\n",
        "    print('\\n')"
      ]
    },
    {
      "cell_type": "code",
      "execution_count": null,
      "id": "01da928e",
      "metadata": {},
      "outputs": [],
      "source": [
        "import pandas as pd\n",
        "\n",
        "# Diccionario con modelos y sus instancias\n",
        "models = {\n",
        "    \"Linear Regression\": LinearRegression(),\n",
        "    \"Lasso\": Lasso(),\n",
        "    \"Ridge\": Ridge(),\n",
        "    \"K-Neighbors Regressor\": KNeighborsRegressor(),\n",
        "    \"Decision Tree\": DecisionTreeRegressor(),\n",
        "    \"Random Forest Regressor\": RandomForestRegressor(),\n",
        "    \"XGBRegressor\": XGBRegressor(), \n",
        "    \"CatBoosting Regressor\": CatBoostRegressor(verbose=False),\n",
        "    \"AdaBoost Regressor\": AdaBoostRegressor()\n",
        "}\n",
        "\n",
        "# Diccionario de abreviaciones para cada modelo\n",
        "model_abbreviations = {\n",
        "    \"Linear Regression\": \"LR\",\n",
        "    \"Lasso\": \"Lasso\",\n",
        "    \"Ridge\": \"Ridge\",\n",
        "    \"K-Neighbors Regressor\": \"KNR\",\n",
        "    \"Decision Tree\": \"DT\",\n",
        "    \"Random Forest Regressor\": \"RFR\",\n",
        "    \"XGBRegressor\": \"XGB\",\n",
        "    \"CatBoosting Regressor\": \"CBR\",\n",
        "    \"AdaBoost Regressor\": \"ABR\"\n",
        "}\n",
        "\n",
        "\n",
        "# Listas para almacenar los resultados\n",
        "model_data = []\n",
        "\n",
        "for model_name, model in models.items():\n",
        "    # Entrenar el modelo\n",
        "    model.fit(X_train, y_train)\n",
        "    new_name = model_abbreviations[model_name]\n",
        "    # Hacer predicciones\n",
        "    y_train_pred = model.predict(X_train)\n",
        "    y_test_pred = model.predict(X_test)\n",
        "    \n",
        "    # Evaluar rendimiento\n",
        "    model_train_mae , model_train_rmse, model_train_r2 = evaluate_model(y_train, y_train_pred)\n",
        "    model_test_mae , model_test_rmse, model_test_r2 = evaluate_model(y_test, y_test_pred)\n",
        "    \n",
        "    # Añadir resultados al DataFrame\n",
        "    model_data.append({'Modelo': model_name, 'Abrev': new_name, 'Conjunto': 'Train', 'Métrica': 'MAE', 'Rendimiento': model_train_mae})\n",
        "    model_data.append({'Modelo': model_name,'Abrev': new_name, 'Conjunto': 'Train', 'Métrica': 'RMSE', 'Rendimiento': model_train_rmse})\n",
        "    model_data.append({'Modelo': model_name,'Abrev': new_name, 'Conjunto': 'Train', 'Métrica': 'R2', 'Rendimiento': model_train_r2})\n",
        "\n",
        "    model_data.append({'Modelo': model_name,'Abrev': new_name, 'Conjunto': 'Test', 'Métrica': 'MAE', 'Rendimiento': model_test_mae})\n",
        "    model_data.append({'Modelo': model_name,'Abrev': new_name, 'Conjunto': 'Test', 'Métrica': 'RMSE', 'Rendimiento': model_test_rmse})\n",
        "    model_data.append({'Modelo': model_name,'Abrev': new_name, 'Conjunto': 'Train', 'Métrica': 'R2', 'Rendimiento': model_test_r2})\n",
        "\n",
        "# Crear DataFrame\n",
        "models = pd.DataFrame(model_data).sort_values([\"Modelo\", \"Métrica\"])\n"
      ]
    },
    {
      "cell_type": "code",
      "execution_count": null,
      "id": "f1a65487",
      "metadata": {},
      "outputs": [],
      "source": [
        "models"
      ]
    },
    {
      "cell_type": "code",
      "execution_count": null,
      "id": "392eb4c6",
      "metadata": {},
      "outputs": [],
      "source": [
        "import matplotlib.pyplot as plt\n",
        "import seaborn as sns\n",
        "\n",
        "# Filtrar el DataFrame para obtener solo las métricas MAE\n",
        "mae_df = models[models['Métrica'] == 'MAE'].sort_values([\"Métrica\"], ascending=False)\n",
        "\n",
        "# Crear una gráfica de líneas\n",
        "plt.figure(figsize=(14, 8))\n",
        "sns.lineplot(x='Abrev', y='Rendimiento', hue='Conjunto', marker='o', data=mae_df, palette='viridis')\n",
        "\n",
        "# Añadir etiquetas y título\n",
        "plt.title('Comparación del MAE entre Conjunto de Entrenamiento')\n"
      ]
    },
    {
      "cell_type": "code",
      "execution_count": null,
      "id": "6c82e94d",
      "metadata": {},
      "outputs": [],
      "source": [
        "pd.DataFrame(list(zip(model_list, r2_list)), columns=['Model Name', 'R2_test']).sort_values(by=[\"R2_test\"],ascending=False)"
      ]
    },
    {
      "cell_type": "code",
      "execution_count": null,
      "id": "8716e4cb",
      "metadata": {},
      "outputs": [],
      "source": [
        "from sklearn.model_selection import train_test_split\n",
        "from sklearn.linear_model import LinearRegression\n",
        "from sklearn.metrics import mean_squared_error\n",
        "\n",
        "np.random.seed(0)\n",
        "X = 2 * np.random.rand(100, 1)  \n",
        "y = 4 + 3 * X + np.random.randn(100, 1)  \n",
        "X_train, X_test, y_train, y_test = train_test_split(X, y, test_size=0.2, random_state=0)\n",
        "\n",
        "model = LinearRegression()\n",
        "\n",
        "model.fit(X_train, y_train)\n",
        "\n",
        "y_pred = model.predict(X_test)\n",
        "\n",
        "mse = mean_squared_error(y_test, y_pred)\n",
        "print(f\"Mean Squared Error: {mse}\")\n",
        "\n",
        "print(f\"Intercepto: {model.intercept_[0]}\")\n",
        "print(f\"Coeficiente: {model.coef_[0][0]}\")\n",
        "\n",
        "plt.scatter(X_test, y_test, color='blue', label='Datos Reales')\n",
        "plt.plot(X_test, y_pred, color='red', linewidth=2, label='Línea de Regresión')\n",
        "plt.xlabel('X')\n",
        "plt.ylabel('y')\n",
        "plt.title('Regresión Lineal')\n",
        "plt.legend()\n",
        "plt.show()"
      ]
    },
    {
      "cell_type": "code",
      "execution_count": null,
      "id": "5900d920",
      "metadata": {},
      "outputs": [],
      "source": [
        "path = \"file:/c:/Users/AngelClavellina/Documents/MLOps/TrafficViolationsCDMX/artifacts/train.csv\"\n"
      ]
    }
  ],
  "metadata": {
    "colab": {
      "collapsed_sections": [
        "d3debdd4",
        "243a7e62",
        "f1151020",
        "6f13c010",
        "7e59a5b9",
        "df596603",
        "b7b38ad2",
        "5407fa4e",
        "1eb42045",
        "f7f507da",
        "1138e090",
        "7b1a0764"
      ],
      "name": "Pizza Price Prediction.ipynb",
      "provenance": []
    },
    "kernelspec": {
      "display_name": "Python 3",
      "language": "python",
      "name": "python3"
    },
    "language_info": {
      "codemirror_mode": {
        "name": "ipython",
        "version": 3
      },
      "file_extension": ".py",
      "mimetype": "text/x-python",
      "name": "python",
      "nbconvert_exporter": "python",
      "pygments_lexer": "ipython3",
      "version": "3.8.0"
    }
  },
  "nbformat": 4,
  "nbformat_minor": 5
}
